{
 "metadata": {
  "name": "Quid Exercise"
 },
 "nbformat": 3,
 "nbformat_minor": 0,
 "worksheets": [
  {
   "cells": [
    {
     "cell_type": "heading",
     "level": 1,
     "metadata": {},
     "source": "Quid Exercise"
    },
    {
     "cell_type": "markdown",
     "metadata": {},
     "source": "Written by Brinda Vijaykumar, 6/5/2014.\n\nThis is a rough overview of my thought process for assigning cluster names to the companies. Some parts have various descriptions while the other parts of the code are just to see the output of teh descriptions and keywords. Hope this helps, thanks!"
    },
    {
     "cell_type": "code",
     "collapsed": false,
     "input": "import json\n\nimport requests\nimport pandas as pd\nimport numpy as np\nimport matplotlib.pyplot as plt",
     "language": "python",
     "metadata": {},
     "outputs": [],
     "prompt_number": 1
    },
    {
     "cell_type": "code",
     "collapsed": false,
     "input": "Tech_companies = pd.read_csv('Technology Segmentation.csv', delimiter=',')\nTech_companies['Louvain 0'][0:10]",
     "language": "python",
     "metadata": {},
     "outputs": [
      {
       "metadata": {},
       "output_type": "pyout",
       "prompt_number": 23,
       "text": "0        tests / molecular diagnostic / lab / diseases\n1        health / apps / wellness / technology company\n2           advertising / optimization / bidding / rtb\n3        tests / molecular diagnostic / lab / diseases\n4    sustainability / water / web-based software / ...\n5        tests / molecular diagnostic / lab / diseases\n6    sustainability / water / web-based software / ...\n7        tests / molecular diagnostic / lab / diseases\n8        tests / molecular diagnostic / lab / diseases\n9        tests / molecular diagnostic / lab / diseases\nName: Louvain 0, dtype: object"
      }
     ],
     "prompt_number": 23
    },
    {
     "cell_type": "code",
     "collapsed": false,
     "input": "descriptions = []\nall_des=[]\nfor i in range(len(Tech_companies['ID'])):\n    des = Tech_companies['Louvain 0'][i]\n    if des not in descriptions:\n        descriptions.append(des)\n    all_des.append(des)\nfor x in range(len(descriptions)):\n    print all_des.count(descriptions[x]), descriptions[x]",
     "language": "python",
     "metadata": {},
     "outputs": [
      {
       "output_type": "stream",
       "stream": "stdout",
       "text": "15 tests / molecular diagnostic / lab / diseases\n11 health / apps / wellness / technology company\n11 advertising / optimization / bidding / rtb\n7 sustainability / water / web-based software / sustainability performance\n7 style / fashion industry / fashion / white\n7 structured / query / memory / customization\n"
      }
     ],
     "prompt_number": 52
    },
    {
     "cell_type": "code",
     "collapsed": false,
     "input": "descriptions = []\nall_des=[]\nfor i in range(len(Tech_companies['ID'])):\n    des = Tech_companies['Louvain 1'][i]\n    if des not in descriptions:\n        descriptions.append(des)\n    all_des.append(des)\nfor x in range(len(descriptions)):\n    print all_des.count(descriptions[x]), descriptions[x]",
     "language": "python",
     "metadata": {},
     "outputs": [
      {
       "output_type": "stream",
       "stream": "stdout",
       "text": "15 tests / molecular diagnostic / lab / diseases\n11 health care / apps / wellness / technology company\n5 rules / predictive analytics / going / builds\n7 sustainability / web-based software / waste / sustainability performance\n7 style / fashion industry / white / suit\n7 structured / query / memory / customization\n6 optimization / dsp / display / retargeting\n"
      }
     ],
     "prompt_number": 53
    },
    {
     "cell_type": "markdown",
     "metadata": {},
     "source": "So I notice here that Louvain 1 is similar to Louvain 0, except that Louvain 0 combined descriptions 'rules/predictive analytics/ going/ builds' and 'optimization/dsp/display/retargeting' into 'advertising/ optimization/bidding/rtb'. Because we have narrower targets for Louvain 1, I am going to use that to build my categories.\n\nThese are all the varieties of descriptions of companies that we have in our set. The description of 'rules/predictice analytics/going/builds' seems a little confusing to me, so I decided to check out their descriptions below."
    },
    {
     "cell_type": "code",
     "collapsed": false,
     "input": "for i in range(len(Tech_companies['ID'])):\n    des = Tech_companies['Louvain 1'][i]\n    if des == descriptions[2]:\n        print Tech_companies['Company Name'][i], ':', Tech_companies['Business Descriptions'][i], '\\n'",
     "language": "python",
     "metadata": {},
     "outputs": [
      {
       "output_type": "stream",
       "stream": "stdout",
       "text": "Behavioral Technology Group Inc. : Behavioral Technology Group Inc. develops a wearable technology that influences habits. The company was incorporated in 2013 and is based in Boston, Massachusetts. \n\nLuxury Fashion Trade GmbH : Luxury Fashion Trade GmbH operates as an online retailer for fashion accessories, including handbags, evening gowns, jewelry, sun glasses, and many more. Luxury Fashion Trade GmbH was founded in 2008 and is based in D\ufffd\ufffd\ufffd_sseldorf, Germany. \n\nTopOPPS, Inc. : TopOPPS, Inc. is a sales pipeline analytics startup. It offers TopOPPS, a sales pipeline solution that allows clients to identify their sales opportunities, utilize big data analytics for pipeline predictability, mobilize sales updates, improve visibility into sales opportunities, adjust for gaps between forecast and sales budget, increase confidence in forecast, and plug into their customer relationship management. The company was founded in 2014 and is based in St. Louis, Missouri. \n\nMedio Systems, Inc. : Medio Systems, Inc. offers predictive analytics solutions. The company provides inGenius, a big data analytics solution for discovering revenue opportunities in customer usage patterns on connected devices. Additionally, it launches and manages analytics, applications, and content for developers, operators, original equipment manufacturers, and publishers. Medio Systems, Inc. was founded in 2004 and is headquartered in Seattle, Washington. \n\nKomli Media, Inc. : Komli Media, Inc. provides digital advertising services in the United States. It offers Remarketing Demand Side Platform that enables digital marketers to convert site visitors into loyal customers. It serves advertisers, digital agencies, and publishers. The company is based in New York, New York. Komli Media, Inc. operates as a subsidiary of Komli Media India Pvt Ltd. \n\n"
      }
     ],
     "prompt_number": 55
    },
    {
     "cell_type": "markdown",
     "metadata": {},
     "source": "Notice that the first two are fashion related and are therefore quite different compared to the next three. I would label the first two in a category such as \"Fashion Technology\" and the next three in a category such as \"Data Marketing\". \n\nLet's see if Behavioral Technology and Luxury Fashion Trade GmbH fit in the fashion categories with the other 7 fashion industry companies:"
    },
    {
     "cell_type": "code",
     "collapsed": false,
     "input": "for i in range(len(Tech_companies['ID'])):\n    des = Tech_companies['Louvain 1'][i]\n    if des == descriptions[4]:\n        print Tech_companies['Company Name'][i], ':', Tech_companies['Business Descriptions'][i], '\\n'",
     "language": "python",
     "metadata": {},
     "outputs": [
      {
       "output_type": "stream",
       "stream": "stdout",
       "text": "Fitted Fashion : Fitted Fashion develops platform that precise measurements, to empower clothing brands and designers to make clothes that look better and fit better. Fitted Fashion is based in Providence, Rhode Island. \n\nFashion Republic Technologies Ltd. : Fashion Republic Technologies Ltd. owns and operates an online fashion photo search engine fashion and content aggregation platform. The platform scans fashion business websites in China and helps users identify products and trends through photo galleries. The company is based in Beijing, China. \n\nThe Business of Fashion Ltd. : The Business of Fashion Ltd. provides an online daily resource for fashion creatives, executives, and entrepreneurs in the United Kingdom and internationally. It offers fashion business intelligence on emerging designers, disruptive technologies, and global brands. The company was founded in 2007 and is based in London, United Kingdom. \n\nMy Fashion Database, LLC : My Fashion Database, LLC owns and operates an online platform that organizes fashion credits of various covers, campaigns, and editorials from publications and brands around the world. The company was founded in 2008 and is based in Encino, California. \n\nContinuum Fashion : Continuum Fashion owns and operates an online portal which enables fashion designers to create and distribute their designs with the helps of 3D design tools and custom fit. The company is based in Boston, Massachusetts. \n\nFashion GPS, Inc. : Fashion GPS, Inc. provides web-based samples, events, and public relation management solutions for the fashion industry worldwide. It offers Fashion GPS, a virtual employee solution that handles the process of sending out and following up on samples, creating reports, managing requests, forecasting, taking reservations, and displaying look books. The company\u0322\ufffd\ufffd\u0089\ufffds product features include Sample Manager, a virtual wardrobe to manage inventory; Fashion GPS Virtual Look Books, a customized Web-based platform to request samples; Publicity Manager to create trend analysis reports; reports reflecting history, status, and location of samples; EventsGPS, a Web based invitation scheduling and seating system; and GPS Radar, which provides access to fashion brands and PR agencies, and digital fashion community for fashion media, creative support professionals, brands, merchandisers, and agencies. Fashion GPS, Inc. was founded in 2006 and is based in New York, New York. The company has additional offices in London, Paris, and Milan. \n\nFashion Locals GmbH : Fashion Locals GmbH provides online shopping platform for fashion lovers. The company is based in Munich, Germany. As of November 28, 2013, Fashion Locals GmbH operates as a subsidiary of kleidoo GmbH. \n\n"
      }
     ],
     "prompt_number": 56
    },
    {
     "cell_type": "markdown",
     "metadata": {},
     "source": "It seems to fit pretty well, so now we can group these two companies with these other companies. Now let's look at the structured / query / memory / customization business descriptions:"
    },
    {
     "cell_type": "code",
     "collapsed": false,
     "input": "print descriptions[5]\nprint '__________________________________________________________'\nfor i in range(len(Tech_companies['ID'])):\n    des = Tech_companies['Louvain 1'][i]\n    if des == descriptions[5]:\n        print Tech_companies['Company Name'][i], ':', Tech_companies['Business Descriptions'][i], '\\n'",
     "language": "python",
     "metadata": {},
     "outputs": [
      {
       "output_type": "stream",
       "stream": "stdout",
       "text": "structured / query / memory / customization\n__________________________________________________________\nHTG Molecular Diagnostics, Inc. : HTG Molecular Diagnostics, Inc. provides molecular-technology solutions. It develops assays and reagent systems that provide quantitative gene expression analysis in formalin-fixed paraffin embedded tissue. The company offers endogenous control assays that are used to identify a set of normalization genes for a custom assay, to mitigate bias when an endogenous gene is over-or under-expressed, or to predict gene expression levels across various tissue types prior to testing on an assay; human, rat, or mouse miRNA gene markers; qSelect mRNA genes, which enable the customization of a lab-specific array; and qBead, a gene expression assay. It also provides endogenous control array, custom array development, qSelect miRNA gene list, qSelect mRNA gene list, qDiscovery miRNA Version 16, clinical trial support, and ingenuity IPA data analysis services to pharmaceutical clients. In addition, the company provides EDGE system, an automated instrumentation designed for clinical and research laboratories that offer nucleic acid extraction-free gene expression results from FFPE tissue and various other sample types. The company was formerly known as High Throughput Genomics, Inc. and changed its name to HTG Molecular Diagnostics, Inc. on March 24, 2011. HTG Molecular Diagnostics, Inc. was founded in 1997 and is based in Tucson, Arizona. \n\nCoolaData Ltd. : CoolaData Ltd. provides a behavioral analytics solution for online companies. The company offers CoolaData, a big data analytics platform that analyzes online user behavior and converts it to usable business data. Its platform unifies information from various sources, including blogs, social feeds, events, and logs; processes massive amounts of data online; and provides analysis that gives the information and insights to make product and marketing decisions. The company\u0322\ufffd\ufffd\u0089\ufffds platform allows the identification of trends, opportunities, and threats. CoolaData Ltd. was founded in 2012 and is based in Tel Aviv, Israel. \n\nCognitive Electronics, Inc : Cognitive Electronics, Inc. provides big data analytics computing solutions for public or private clouds. Its technology runs existing big data analytics applications in finance, defense, cyber security, analytics, oil and gas, media, and other applications. The company was founded in 2008 and is based in Lebanon, New Hampshire. \n\nParStream GmbH : ParStream GmbH engages in developing and implementing high-performance analytical database systems. The company offers ParStream, a big data analytics platform that enables interactive business analysis on dynamic big data. It serves Internet, social communities, finance, Telco, energy, and science sectors. The company was founded in 2007 and is based in Cologne, Germany. \n\nFlutura Business Solutions Pvt. Ltd. : Flutura Business Solutions Pvt. Ltd., a boutique decision sciences and analytics company, provides a platform for corporations to analyze huge amounts of data. It offers Cerebra, an industry-agnostic big data analytics platform with vertical-specific plug-ins. The company specializes in machine-to-machine (M2M) and human generated big data analytics with a focus on telecommunications, healthcare, utility, and digital industries. Its platform provides industrial engineering, intelligent building, smart meter, oil and gas, and telecommunication M2M analytics. Flutura Business Solutions Pvt. Ltd. was founded in 2012 and is based in Bengaluru, India. \n\nStratio Big Data, S.L. : Stratio Big Data, S.L. provides big data solutions for the travel industry worldwide. It offers Gondor Platform, a big data platform that allows interactive analysis combining batch operations with real time stream operations in the same process or queries. The company also provides Stratio Bus, an event bus with non-blocking I/O that allows users to develop applications; Stratio Real Time, a product to simplify the stream processing; Stratio Search, a solution that saves time and complexity by not writing on files; and Stratio Deep, an optimized solution for data summarization, query, and analysis. In addition, it offers business solutions, including Web experience customization, application monitoring and analysis, target marketing, intelligent tagger, business intelligence improved, target marketing, NLP and semantic, recommendation engine, and machine to machine and the Internet of things system solutions. The company was founded in 2013 and is based in Los Gatos, California with additional offices in Europe. \n\nL-3 Data Tactics : L-3 Data Tactics provides big data analytics and cloud computing solution services primarily to the U.S. Department of Defense. It offers cloud computing, data center as a service, cyber security, technology network, and utility computing and capacity services. L-3 Data Tactics was formerly known as Data Tactics Corporation. The company was founded in 2005 and is based in Mclean, Virginia. As of March 5, 2014, L-3 Data Tactics operates as a subsidiary of L-3 Communications Holdings Inc. \n\n"
      }
     ],
     "prompt_number": 65
    },
    {
     "cell_type": "markdown",
     "metadata": {},
     "source": "So it seems like HTG Molecular Diagnostics belongs more in the molecular diagnostic category. Let's quickly look at what these companies are:"
    },
    {
     "cell_type": "code",
     "collapsed": false,
     "input": "print descriptions[1]\nprint '__________________________'\nfor i in range(len(Tech_companies['ID'])):\n    des = Tech_companies['Louvain 1'][i]\n    if des == descriptions[1]:\n        print Tech_companies['Company Name'][i], ':', Tech_companies['Business Descriptions'][i], '\\n'",
     "language": "python",
     "metadata": {},
     "outputs": [
      {
       "output_type": "stream",
       "stream": "stdout",
       "text": "health care / apps / wellness / technology company\n__________________________\nSanovia Health Information Designs, LLC. : Sanovia Health Information Designs, LLC. develops and delivers pharmacy management solutions to health plans and pharmacy benefit managers focused on the utilization of specialty drugs and other high cost pharmaceuticals. Its software solutions include PA-Logic, a clinical platform that allows customers to coordinate and manage prior authorizations for various medical and pharmacy benefits drugs; ePA-Logic, a Web-based solution, which enables physicians and other healthcare providers to submit pharmacy prior authorization requests and receive certification decisions in real-time; and PA-Logic Clinical Decision Library, a library of clinical protocols for users to make appropriate determinations. The company also offers technical and clinical services to support pharmacy utilization management, including business process outsourcing. It enables healthcare plans and pharmacy benefit managers to make clinically appropriate PA certification decisions based on real-time information from patients and providers, claims data, and clinical best practices. The company was formerly known as Sanovia Corporation and changed its name to Sanovia Health Information Designs, LLC. on February 1, 2013. The company was founded in 2003 and is headquartered in Philadelphia, Pennsylvania. As of December, 2012, Sanovia Health Information Designs, LLC. operates as a subsidiary of Health Information Designs Inc. \n\nWearPoint Inc. : WearPoint Inc. develops and manufactures human input and wearable technology device. It offers Tact which is a wearable interface that can control Google Glass and other near-eye displays by allowing users to control them without using their hands or voice. The company is based in the United States. \n\nMedSocket of Missouri, Inc. : MedSocket of Missouri, Inc. provides health information technology solutions. It offers 1-CDS (1-Click Decision Support), a clinical decision support system; and 1-Search, a search engine that provides evidence-based information for clinicians. The company was founded in 2012 and is based in Columbia, Missouri. \n\nLifeOnKey Inc. : LifeOnKey Inc. operates as a Web-based personal health record platform to store, access, manage, and control the health information. It provides comprehensive medical and health and wellness information, test results, pharmacy purchases, online medical and health-specific modules, and search capabilities for its members. It develops and markets LifeOnKey, health management platform that enables healthcare stakeholders to integrate and leverage information assets. The company provides Personal Health Record application for doctors and health care providers; WellnessKey, a basic health profile that allows users to collect health information from various providers and use health tracking tools to manage factors that impact health; WellnessKey for Women; Pregnancy Key, enables users to track condition during pregnancy; Diabetes Key, a solution that helps in managing diabetes; and DietKey that helps in design daily meal plans, recipes, and fitness plans. In addition, it offers electronic health record application that allows healthcare institutions to collect medical data electronically. It serves insurance companies, employers, hospitals, pharmaceutical industry, CRO, portals, magazines, and medical associations. The company was formerly known as Global Medical Networks Ltd. LifeOnKey Inc. was founded in 2003 and is based in New York. New York. \n\nGetVu : GetVu develops wearable augmented reality platform. The company is based in the United States. \n\nP-Device Systems Pvt Ltd : P-Device Systems Pvt Ltd develops converged cloud platform (CCP) for companies operating in the Internet of Things (IoT) space. The company was incorporated in 2011 and is based in Bengaluru, India. \n\nConsumer Health Advisers, Inc. : Consumer Health Advisers, Inc. provides on-demand consumer health information for employees and dependents of self-insured employers. It offers Consumer Health Management Center (CHMC), a Web-based platform that consolidates the consumer's health history, including claims, clinical, and financial into a single portal. The company also provides Health Record plus, which consolidates the information from personalized and updated claims information into reporting tools and materials that members use as actionable resources; Health Record, a module of CHMC that takes the information from personalized and updated claims into a personal health record; and public sector solutions for Medicare and Medicaid populations. Consumer Health Advisers, Inc. was incorporated in 2007 and is based in Bethesda, Maryland with an additional office in Chicago, Illinois. \n\nCognovant, Inc. : Cognovant, Inc., a consumer-health company, specializes in mobile and personal health record technology. It develops and implements health information technology in hospitals, clinics, and long-term care facilities. The company was incorporated in 2011 and is based in Kansas City, Missouri. \n\nProdea Systems, Inc. : Prodea Systems, Inc. provides distributed cloud-based platform that focuses on connected home services. The company offers Residential Operating System (ROS), an end-to-end managed service platform of the Internet of Things (IoT) that enables service providers to deliver autonomous connectivity and services between people, data, and devices. It caters to telecommunication, wireless, education, retail, government, and healthcare sectors. Prodea Systems, Inc. was founded in 2006 and is headquartered in Richardson, Texas with additional offices in New York, New York; Los Angeles, California; Mumbai, India; London, United Kingdom; Dubai, United Arab Emirates; Johannesburg, South Africa; and Madrid, Spain. \n\nPetsMD Inc. : PetsMD Inc. provides pet health information and pet care resources online. It offers information in the areas of dogs, cats, pet health conditions and diseases, pet medication descriptions and guide, and dog and cat breeds for pet owners and veterinarians. PetsMD Inc. was founded in 2008 and is based in Austin, Texas. As of March 2011, PetsMD Inc. operates as a subsidiary of Pet360, Inc. \n\nSoundhawk Corporation : Soundhawk Corporation develops a wearable wireless device that is coupled with its smartphone application to improve users hearing in various environments. The company was incorporated in 2010 and is based in Cupertino, California. \n\n"
      }
     ],
     "prompt_number": 68
    },
    {
     "cell_type": "code",
     "collapsed": false,
     "input": "for i in range(len(Tech_companies['ID'])):\n    des = Tech_companies['Louvain 1'][i]\n    if des == descriptions[3]:\n        print Tech_companies['Company Name'][i]",
     "language": "python",
     "metadata": {},
     "outputs": [
      {
       "output_type": "stream",
       "stream": "stdout",
       "text": "WeSustain GmbH\nCloudApps Ltd\nScope 5, Inc.\nENXSUITE Corporation\nWeGreen UG\nGreenerU, Inc.\nZik Energy Points, Inc.\n"
      }
     ],
     "prompt_number": 71
    },
    {
     "cell_type": "code",
     "collapsed": false,
     "input": "print Tech_companies['Business Descriptions'][6]",
     "language": "python",
     "metadata": {},
     "outputs": [
      {
       "output_type": "stream",
       "stream": "stdout",
       "text": "CloudApps Ltd. develops, implements, and maintains a sustainable business model that delivers improvements in efficiency, meets or exceeds environmental objectives, and ensures long-term employee engagement. It offers sustainability suite, a cloud-based software solution for sustainability performance management and reporting, energy and carbon management, and employee engagement helping organizations to track, manage, and forecast their progress against corporate sustainability goals in real-time. The company also provides sustainability momentum that connects employees with the corporate sustainability vision and goals by combining the power of social networking, gamification, and sustainability. In addition, it offers sustainability management, disclosure reporting, and initiative management solutions that help customers to track and manage key sustainability metrics in real-time; energy and carbon management solutions; and corporate responsibility management, reporting, and project tracking solutions that help customers to gain global visibility into key metrics, reduce operational costs, and accelerate the delivery of CSR initiatives. The company was incorporated in 2009 and is based in Staines, United Kingdom.\n"
      }
     ],
     "prompt_number": 77
    },
    {
     "cell_type": "code",
     "collapsed": false,
     "input": "print Tech_companies['Business Descriptions'][26]",
     "language": "python",
     "metadata": {},
     "outputs": [
      {
       "output_type": "stream",
       "stream": "stdout",
       "text": "DataXu, Inc. provides multi-channel demand side platform for online, video, and mobile advertisers. It offers DX2 Platform that gives the power to manage media investments to brands; DX Mobile that gives mobile advertisers the power of demand side platforms; DX3, a digital marketing management platform; and DX Video, which keeps the power of DX2, a cross-channel demand side platform in the hands of advertisers and agencies looking to leverage video advertising to drive measurable brand engagement. The company also provides DX Brand that enables brands to move to digital advertising; and DX Social that enables brands to drive social engagement across various media channels. DataXu, Inc. was incorporated in 2007 and is based in Boston, Massachusetts.\n"
      }
     ],
     "prompt_number": 82
    },
    {
     "cell_type": "code",
     "collapsed": false,
     "input": "print descriptions[0]\nprint '__________________________'\nfor i in range(len(Tech_companies['ID'])):\n    des = Tech_companies['Louvain 1'][i]\n    if des == descriptions[0]:\n        print Tech_companies['Company Name'][i], ':', Tech_companies['Business Descriptions'][i], '\\n'",
     "language": "python",
     "metadata": {},
     "outputs": [
      {
       "output_type": "stream",
       "stream": "stdout",
       "text": "tests / molecular diagnostic / lab / diseases\n__________________________\nProAnt AB : ProAnt AB provides embedded and external antennas for smart metering and smart home solutions. The company offers internal antennas for inside mounting and mounting on PCB/PWBs, as well as surface mounted sheet metal antennas; external antennas; and customized antennas for various applications, including automated meter reading, telemetric, M2M-communications, and alarms. It specializes in embedded antennas for various product types, such as multimedia solutions and Internet of Things. The company also offers consultation with design-in of antennas, as well as design of matching network and transmission lines. It offers its products through distributors in Sweden, Finland, Germany, the Netherlands, Italy, England/the United Kingdom, Spain/Portugal, and the United States. The company offers its products for meter manufacturers, utility companies, and service providers, as well as home alarms, wireless medical, positioning, etc. ProAnt AB was founded in 2004 and is headquartered in Ume\ufffd\ufffd\ufffd, Sweden. \n\nSweatalyzer : Sweatalyzer manufactures a bio engineering product, a band-aid-sized wearable device that can monitor blood-alcohol content through human sweat. The company is based in Texas. \n\nGema Diagnostics, Inc. : Gema Diagnostics, Inc. is a molecular diagnostics company targeting assisted reproductive technology. The company is based in East Lansing, Michigan. \n\nSpire, Inc. : Spire, Inc. manufactures a wearable sensor that tracks both physical and psychological fitness to lower stress and increase productivity. The company is based in San Francisco, California. \n\nLumora Ltd. : Lumora Ltd. develops molecular diagnostics based on bioluminescent assay in real-time technology. Its molecular diagnostics are used in the detection, identification, and monitoring of pathogens, as well as applied to disease prediction, treatment, and management through the analysis of genetic markers. The company serves various markets, such as medical, food, veterinary and environmental testing, and defense. Lumora Ltd. was founded in 2002 and is based in Cambridge, the United Kingdom. \n\nBiocod Biotecnologia Ltda : Biocod Biotecnologia Ltda develops molecular tools for the human genetics segment. The company provides services on genetic identification, chromosome studies, congenital disorders, and prenatal diagnosis based on traditional Cytogenetics techniques and molecular diagnostics. The company was founded in 2000 and is based in Belo Horizonte, Brazil. As of 2012, Biocod Biotecnologia Ltda operates as a subsidiary of Instituto Hermes Pardini Ltda. \n\nDiagnovus, LLC : Diagnovus, LLC operates as a molecular diagnostics company. The company develops diagnostic test to identify cancer. Diagnovus, LLC is based in Nashville, Tennessee. \n\nSIGFOX Wireless SAS : SIGFOX Wireless SAS, a cellular network operator, provides data transmission services in France. It offers mono/bidirectional communications and geo-positioning of objects for industrial needs. The company provides its solutions for various applications, including smart metering for water and energy suppliers; telemedicine to monitor patients from a remote location via a mobile device; building security and intelligence; controlling urban installations and infrastructures, such as public lighting, traffic signal systems, information signs, waste collectors, parking spaces and meters, information points, public transportation, etc.; tracking of goods; equipment and infrastructure control/environmental and agricultural control; and Internet of things. SIGFOX Wireless SAS was founded in 2009 and is based in Toulouse, France. \n\niChronoCloud : iChronoCloud develops wearable products including sphygmomanometer, body analyzer, and smartwatch in order to detect the anomalies including blood pressure, heart rate, blood sugar levels, blood oxygen, body temperature, and BMI indexes. The company is based in China. \n\nPrognosis Health Information Systems, LLC : Prognosis Health Information Systems, LLC provides health information technology solutions to rural and community hospitals. It offers Inpatient Electronic Health Record (EHR), a Web-native software application that provides clinicians with a view of their patients and data to support patient care; ChartAccess Emergency Department (ED), which is integrated with other clinical applications to provide access to clinical support; and ChartAccess Ambulatory EHR that provides data exchange with associated medical practices. The company also provides clinical, ED, inpatient ancillary, patient accounting, ambulatory emerging medical record, and Web-native technology solutions; and financing, implementation, training, and technical support services. It serves acute care hospitals, community health centers, rural health centers, federally qualified health centers, and critical access hospitals. The company was founded in 2006 and is headquartered in Houston, Texas. \n\n1248 Ltd. : 1248 Ltd. provides software and services for the Internet of things (IoT) industry. It helps companies connect their products to the Internet and provides off-the-shelf service components to build an IoT platform. The company offers Geras, a time-series database for sensor data; and service design, communications protocols, and firmware development services. It offers its products and services for developers and data managers. 1248 Ltd. was founded in 2013 and is based in Harston, United Kingdom. \n\nPhthisis Diagnostics, Inc. : Phthisis Diagnostics, Inc., a biotechnology company, develops and commercializes molecular diagnostic products. It offers molecular diagnostic tests; and Molecular solutions for DNA extraction, molecular diagnostics, infectious disease diagnostics, parasitology, mycology, and laboratory quality control applications. The company was founded in 2005 and is based in Charlottesville, Virginia. \n\nNanosphere, Inc. : Nanosphere, Inc. provides molecular diagnostic tests that can lead to earlier disease detection, optimal patient treatment, and enhanced healthcare economics. Its Verigene System platform enables clinicians to identify and treat the bacteria and viruses for complex, costly, and deadly infectious diseases. The Verigene System includes a bench-top molecular diagnostics workstation for genomic and protein testing. The Verigene System is used for testing infectious disease assays, human and pharmacogenetic assays, and ultra-sensitive protein assays. The company focuses on serving hospital-based laboratories and academic research institutions in the United States. Nanosphere, Inc. was founded in 1998 and is headquartered in Northbrook, Illinois. \n\nTribe Private Co. : Tribe Private Co. develops wearable activity trackers that are embedded into sports apparel. The company is based in Komotini, Greece. \n\nDeviceAuthority, Inc. : DeviceAuthority, Inc. offers technology and products to enable high-assurance authentication for machine-to-machine (M2M) and multi-factor security applications. The company focuses on authentication and security for applications, access, and the Internet of things. It offers D-FACTOR authentication engine that provides a sub-second device authentication and transaction protection for mobile and online applications, as well as network access control; and DeviceAuthority D-FACTOR key generators that provide dynamic device key generation through lightweight desktop Web browser plug-ins or mobile application libraries which respond to device authentication challenges and generate unique device keys for each authentication session. The company provides transaction protection to prevent malware-related attacks and fraud; device authorization for card not present transactions; and M2M infrastructure authentication to minimize the threat surface of cloud/SaaS infrastructure and applications. It serves enterprises, government agencies, online service providers, financial institutions, and cloud/SaaS business services. The company was founded in 2013 and is headquartered in Fremont, California. \n\n"
      }
     ],
     "prompt_number": 84
    },
    {
     "cell_type": "markdown",
     "metadata": {},
     "source": "The thing I realized about the 'tests / molecular diagnostic / lab / diseases' category is that about half the companies do not fit in this category. It seems like if the words 'medical', 'patient', 'doctor', etc. are in the description, it categorizes it as medical even if the company can specialize in various other fields. For such companies, I decided to read the description to get an overall feel for what they do (such as 1248 Ltd. and DeviceAuthority, Inc.). Both of these got categorized as Data Marketing and Data Management, respectively."
    },
    {
     "cell_type": "code",
     "collapsed": false,
     "input": "print descriptions[6]\nprint '__________________________'\nfor i in range(len(Tech_companies['ID'])):\n    des = Tech_companies['Louvain 1'][i]\n    if des == descriptions[6]:\n        print Tech_companies['Company Name'][i], ':', Tech_companies['Business Descriptions'][i], '\\n'",
     "language": "python",
     "metadata": {},
     "outputs": [
      {
       "output_type": "stream",
       "stream": "stdout",
       "text": "optimization / dsp / display / retargeting\n__________________________\nAdReady Inc. : AdReady Inc. develops an online display advertising technology for marketers in the United States. The company\u0322\ufffd\ufffd\u0089\ufffds demand-side platform (DSP) technology helps advertisers to build engaging advertisements, micro-target their audience, purchase display inventory through multiple advertising networks/exchanges, and compile reports on campaign performance in a centralized dashboard; and C-tool helps advertisers of various sizes to radically decrease their production costs while providing the ability to test multiple advertising designs, images, and call to actions against targeted audiences. Its DSP/retargeting technology provides automated access to auction-based real-time display advertising inventory that enables advertisers to set up campaigns with distinct targeting attributes and pricing. The company also offers Search, Look-a-like, and Email retargeting solutions; contextual and behavioral targeting solutions to enhance conversions while waiting to build sufficient retargeting cookie pools; and content based targeting features, and demographic and geographic targeting for advertisers who wish to enhance brand awareness. It offers digital agency, traditional agency, sports, education, and travel solutions. The company\u0322\ufffd\ufffd\u0089\ufffds integrated service and software solutions enable marketers, agencies, and publishers to implement and manage display campaigns of various sizes. AdReady Inc. was founded in 2006 and is headquartered in Seattle, Washington. As of October 1, 2013, AdReady Inc. operates as a subsidiary of CPX Interactive, LLC. \n\nAvazu Inc. : Avazu Inc., a digital advertising company, focuses on offering advertisers with solutions for real-time and data-driven display advertising across various advertisement exchanges and sell-side platforms worldwide. The company provides a demand-side platform that offers advertisement buyers with a ability to individually and differentially value each advertisement impression from the platform of their choice (advertisement exchanges and supply-side platforms) in real time; technologies for creative and landing page optimization; audience segmentation and targeting solutions; and prediction engines that help users to automatically optimize their display campaign towards their targets. It serves online advertisers and publishers. The company was founded in 2009 and is based in Shanghai, China. \n\nmetrigo GmbH : metrigo GmbH provides data-driven solutions for display advertising campaigns. The company offers demand side platform (DSP) which includes data management, real time bidding, and ad serving. Additionally, it provides access to inventory marketplaces. The company was founded in 2011 and is based in Hamburg, Germany. As of November 21, 2013, metrigo GmbH operates as a subsidiary of ZANOX.de AG. \n\nDataXu, Inc. : DataXu, Inc. provides multi-channel demand side platform for online, video, and mobile advertisers. It offers DX2 Platform that gives the power to manage media investments to brands; DX Mobile that gives mobile advertisers the power of demand side platforms; DX3, a digital marketing management platform; and DX Video, which keeps the power of DX2, a cross-channel demand side platform in the hands of advertisers and agencies looking to leverage video advertising to drive measurable brand engagement. The company also provides DX Brand that enables brands to move to digital advertising; and DX Social that enables brands to drive social engagement across various media channels. DataXu, Inc. was incorporated in 2007 and is based in Boston, Massachusetts. \n\nAcuityAds Inc. : AcuityAds Inc. owns and operates an online real-time bidding (RTB) platform for online display and video advertising needs. It offers Demand Side Platform, a tool that automates the purchasing of online advertising on behalf of advertisers; Supply Side Platforms that helps publishers to manage and sell their inventory; and Ad Exchanges, a software tool that connects advertisers and publishers facilitating the purchase of display inventory in real-time through auctions. The company also provides consumer connection platform, acuity optimization engine, topic detection system, acuity brand shield, search retargeting solution, trading desk solution, and video real time bidding solutions. It serves advertisers and publishers. AcuityAds Inc. was founded in 2009 and is based in Toronto, Canada. \n\nLucidmedia Networks, Inc. : LUCIDMEDIA NETWORKS, INC. provides digital media management solutions for the online display advertising industry. It offers LucidMedia demand-side platform, a transparent digital advertising management platform that allows advertisers and their interactive agencies to manage the aspects of targeting, engaging, and converting online customers in a consolidated buying platform. The company has a strategic technology partnership with Epic Media Group. LUCIDMEDIA NETWORKS, INC. was formerly known as Entrieva, Inc. and changed its name to LUCIDMEDIA NETWORKS, INC. in March 2008. The company was founded in 1999 and is based in Reston, Virginia. As of October 2, 2012, Lucidmedia Networks, Inc. operates as a subsidiary of Videology, Inc. \n\n"
      }
     ],
     "prompt_number": 94
    },
    {
     "cell_type": "markdown",
     "metadata": {},
     "source": "At this point, I looked at all the companies I didn't have under any cluster (about 5 of them at this point) and decided to read the descriptions to see where I thought they would fit best. Below is a sample of what I did."
    },
    {
     "cell_type": "code",
     "collapsed": false,
     "input": "Tech_companies['Business Descriptions'][52]",
     "language": "python",
     "metadata": {},
     "outputs": [
      {
       "metadata": {},
       "output_type": "pyout",
       "prompt_number": 107,
       "text": "'L-3 Data Tactics provides big data analytics and cloud computing solution services primarily to the U.S. Department of Defense. It offers cloud computing, data center as a service, cyber security, technology network, and utility computing and capacity services. L-3 Data Tactics was formerly known as Data Tactics Corporation. The company was founded in 2005 and is based in Mclean, Virginia. As of March 5, 2014, L-3 Data Tactics operates as a subsidiary of L-3 Communications Holdings Inc.'"
      }
     ],
     "prompt_number": 107
    },
    {
     "cell_type": "markdown",
     "metadata": {},
     "source": "Now, let's see all the clusters I have made:"
    },
    {
     "cell_type": "code",
     "collapsed": false,
     "input": "clusters = pd.read_csv('Tech Answers 2.csv', delimiter=',')\ndistinct_clus = []\nall_clus=[]\nfor i in range(len(clusters['ID'])):\n    clus = clusters['Cluster Name'][i]\n    if clus not in distinct_clus:\n        distinct_clus.append(clus)\n    all_clus.append(clus)\nfor x in range(len(distinct_clus)):\n    print all_clus.count(distinct_clus[x]), distinct_clus[x]",
     "language": "python",
     "metadata": {},
     "outputs": [
      {
       "output_type": "stream",
       "stream": "stdout",
       "text": "6 Data Management\n5 Healthcare Managing\n9 Fashion Technology\n6 Wearable Data Technology\n7 Environmental Sustainability\n10 Health Diagnostics\n6 Advertising Optimization\n5 Data Marketing\n4 Data Analysis\n"
      }
     ],
     "prompt_number": 123
    },
    {
     "cell_type": "markdown",
     "metadata": {},
     "source": "There are a total of 9 clusters and they each tend to fit in the overall theme that they are assigned to. If I had more time, I would go over some of the descriptions more in depth in order to think of more exact cluster names and to see if they fit in other categories, but overall I am satisfied with most of the names for the clusters."
    },
    {
     "cell_type": "code",
     "collapsed": false,
     "input": "",
     "language": "python",
     "metadata": {},
     "outputs": []
    }
   ],
   "metadata": {}
  }
 ]
}
